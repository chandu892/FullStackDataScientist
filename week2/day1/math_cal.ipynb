{
 "cells": [
  {
   "cell_type": "code",
   "execution_count": 2,
   "id": "4fa545ce",
   "metadata": {},
   "outputs": [
    {
     "name": "stdout",
     "output_type": "stream",
     "text": [
      "5.0\n"
     ]
    }
   ],
   "source": [
    "import math\n",
    "\n",
    "def calc(expr):\n",
    "    func, val = expr.split('(')\n",
    "    val = val[:-1]\n",
    "    val = int(val) if func == 'factorial' else float(val)\n",
    "    funcs = {\n",
    "        'sqrt': math.sqrt,\n",
    "        'factorial': math.factorial,\n",
    "        'sin': math.sin,\n",
    "        'cos': math.cos\n",
    "    }\n",
    "    return funcs.get(func, lambda x: \"Invalid function\")(val)\n",
    "\n",
    "expr = input(\"Enter expression (e.g. sqrt(25)): \")\n",
    "print(calc(expr))\n"
   ]
  },
  {
   "cell_type": "code",
   "execution_count": null,
   "id": "a40741ee",
   "metadata": {},
   "outputs": [],
   "source": []
  }
 ],
 "metadata": {
  "kernelspec": {
   "display_name": "base",
   "language": "python",
   "name": "python3"
  },
  "language_info": {
   "codemirror_mode": {
    "name": "ipython",
    "version": 3
   },
   "file_extension": ".py",
   "mimetype": "text/x-python",
   "name": "python",
   "nbconvert_exporter": "python",
   "pygments_lexer": "ipython3",
   "version": "3.11.5"
  }
 },
 "nbformat": 4,
 "nbformat_minor": 5
}
