{
 "cells": [
  {
   "cell_type": "code",
   "execution_count": 12,
   "id": "3dc449c9",
   "metadata": {},
   "outputs": [
    {
     "name": "stdout",
     "output_type": "stream",
     "text": [
      "neveroddoreven\n",
      "neveroddoreven True\n"
     ]
    }
   ],
   "source": [
    "def palindrome(n):\n",
    "    x=n[::-1]\n",
    "    if n==x:\n",
    "        return True\n",
    "    else:\n",
    "        return False\n",
    "n=input(\"Enter the string\").replace(\" \",\"\").lower()\n",
    "print(n)\n",
    "if palindrome(n):\n",
    "    print(x,\"True\")\n",
    "else:\n",
    "    print(x,\"False\")"
   ]
  },
  {
   "cell_type": "code",
   "execution_count": null,
   "id": "699958a0",
   "metadata": {},
   "outputs": [],
   "source": []
  }
 ],
 "metadata": {
  "kernelspec": {
   "display_name": "base",
   "language": "python",
   "name": "python3"
  },
  "language_info": {
   "codemirror_mode": {
    "name": "ipython",
    "version": 3
   },
   "file_extension": ".py",
   "mimetype": "text/x-python",
   "name": "python",
   "nbconvert_exporter": "python",
   "pygments_lexer": "ipython3",
   "version": "3.11.5"
  }
 },
 "nbformat": 4,
 "nbformat_minor": 5
}
