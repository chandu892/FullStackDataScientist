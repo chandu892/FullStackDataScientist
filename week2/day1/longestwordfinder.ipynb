{
 "cells": [
  {
   "cell_type": "code",
   "execution_count": 1,
   "id": "e0df2b20",
   "metadata": {},
   "outputs": [
    {
     "name": "stdout",
     "output_type": "stream",
     "text": [
      "The longest word is: amazing\n"
     ]
    }
   ],
   "source": [
    "def find_longest_word(words):\n",
    "    longest_word = \"\"\n",
    "    for word in words:\n",
    "        if len(word) > len(longest_word):\n",
    "            longest_word = word\n",
    "    return longest_word\n",
    "words = input(\"Enter words separated by space: \").split()\n",
    "longest = find_longest_word(words)\n",
    "print(\"The longest word is:\", longest)\n"
   ]
  },
  {
   "cell_type": "code",
   "execution_count": null,
   "id": "25a9c383",
   "metadata": {},
   "outputs": [],
   "source": []
  }
 ],
 "metadata": {
  "kernelspec": {
   "display_name": "base",
   "language": "python",
   "name": "python3"
  },
  "language_info": {
   "codemirror_mode": {
    "name": "ipython",
    "version": 3
   },
   "file_extension": ".py",
   "mimetype": "text/x-python",
   "name": "python",
   "nbconvert_exporter": "python",
   "pygments_lexer": "ipython3",
   "version": "3.11.5"
  }
 },
 "nbformat": 4,
 "nbformat_minor": 5
}
