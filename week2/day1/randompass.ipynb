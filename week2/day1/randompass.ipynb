{
 "cells": [
  {
   "cell_type": "code",
   "execution_count": 5,
   "id": "4107c452",
   "metadata": {},
   "outputs": [
    {
     "data": {
      "text/plain": [
       "'8uRaP('"
      ]
     },
     "execution_count": 5,
     "metadata": {},
     "output_type": "execute_result"
    }
   ],
   "source": [
    "import random\n",
    "import string\n",
    "def pass_gen(length):\n",
    "    chars=string.ascii_letters + string.digits + string.punctuation\n",
    "    passw=\"\".join(random.choice(chars) for _ in range(length))\n",
    "    return passw\n",
    "length=int(input(\"Enter the length: \"))\n",
    "pass_gen(length)"
   ]
  },
  {
   "cell_type": "code",
   "execution_count": null,
   "id": "42ad47fc",
   "metadata": {},
   "outputs": [],
   "source": []
  },
  {
   "cell_type": "code",
   "execution_count": null,
   "id": "dc091720",
   "metadata": {},
   "outputs": [],
   "source": []
  }
 ],
 "metadata": {
  "kernelspec": {
   "display_name": "base",
   "language": "python",
   "name": "python3"
  },
  "language_info": {
   "codemirror_mode": {
    "name": "ipython",
    "version": 3
   },
   "file_extension": ".py",
   "mimetype": "text/x-python",
   "name": "python",
   "nbconvert_exporter": "python",
   "pygments_lexer": "ipython3",
   "version": "3.11.5"
  }
 },
 "nbformat": 4,
 "nbformat_minor": 5
}
