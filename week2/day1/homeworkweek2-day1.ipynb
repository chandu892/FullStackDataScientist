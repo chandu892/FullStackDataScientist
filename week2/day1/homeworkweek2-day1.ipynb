{
 "cells": [
  {
   "cell_type": "code",
   "execution_count": 1,
   "id": "66329f2a",
   "metadata": {},
   "outputs": [
    {
     "name": "stdout",
     "output_type": "stream",
     "text": [
      "[0, 1, 1, 2, 3, 5, 8]\n"
     ]
    }
   ],
   "source": [
    "def fibonacci(n):\n",
    "    seq = [0, 1]\n",
    "    for i in range(2, n):\n",
    "        seq.append(seq[-1] + seq[-2])\n",
    "    return seq[:n]\n",
    "\n",
    "print(fibonacci(7))\n"
   ]
  },
  {
   "cell_type": "code",
   "execution_count": 2,
   "id": "a2bb8dfa",
   "metadata": {},
   "outputs": [
    {
     "name": "stdout",
     "output_type": "stream",
     "text": [
      "120\n"
     ]
    }
   ],
   "source": [
    "def fact(n):\n",
    "    return 1 if n == 0 else n * fact(n-1)\n",
    "\n",
    "print(fact(5))\n"
   ]
  },
  {
   "cell_type": "code",
   "execution_count": 3,
   "id": "e2f53bde",
   "metadata": {},
   "outputs": [
    {
     "name": "stdout",
     "output_type": "stream",
     "text": [
      "{'apple': 2, 'banana': 2, 'orange': 1}\n"
     ]
    }
   ],
   "source": [
    "from collections import Counter\n",
    "\n",
    "def word_count(s):\n",
    "    return dict(Counter(s.split()))\n",
    "\n",
    "print(word_count(\"apple banana apple orange banana\"))\n"
   ]
  },
  {
   "cell_type": "code",
   "execution_count": 4,
   "id": "d774126b",
   "metadata": {},
   "outputs": [
    {
     "name": "stdout",
     "output_type": "stream",
     "text": [
      "Grade: A\n"
     ]
    }
   ],
   "source": [
    "def grade(marks):\n",
    "    avg = sum(marks)/len(marks)\n",
    "    if avg >= 90: return \"Grade: A+\"\n",
    "    elif avg >= 80: return \"Grade: A\"\n",
    "    elif avg >= 70: return \"Grade: B\"\n",
    "    elif avg >= 60: return \"Grade: C\"\n",
    "    else: return \"Grade: F\"\n",
    "\n",
    "print(grade([85, 90, 78]))\n"
   ]
  },
  {
   "cell_type": "code",
   "execution_count": 5,
   "id": "83f053cc",
   "metadata": {},
   "outputs": [
    {
     "name": "stdout",
     "output_type": "stream",
     "text": [
      "10\n"
     ]
    }
   ],
   "source": [
    "def second_largest(lst):\n",
    "    return sorted(set(lst))[-2]\n",
    "\n",
    "print(second_largest([10, 5, 20, 8]))\n"
   ]
  },
  {
   "cell_type": "code",
   "execution_count": 6,
   "id": "3ac6850c",
   "metadata": {},
   "outputs": [
    {
     "name": "stdout",
     "output_type": "stream",
     "text": [
      "Text files: 2\n",
      "Python files: 2\n"
     ]
    }
   ],
   "source": [
    "import os\n",
    "\n",
    "files = [\"notes.txt\", \"app.py\", \"data.csv\", \"report.txt\", \"main.py\"]\n",
    "txt = sum(1 for f in files if f.endswith(\".txt\"))\n",
    "py = sum(1 for f in files if f.endswith(\".py\"))\n",
    "\n",
    "print(\"Text files:\", txt)\n",
    "print(\"Python files:\", py)\n"
   ]
  },
  {
   "cell_type": "code",
   "execution_count": 7,
   "id": "876fd057",
   "metadata": {},
   "outputs": [
    {
     "name": "stdout",
     "output_type": "stream",
     "text": [
      "Mean = 87.86\n",
      "Median = 90\n",
      "Variance = 73.81\n"
     ]
    }
   ],
   "source": [
    "import statistics\n",
    "\n",
    "scores = [75, 80, 90, 100, 85, 90, 95]\n",
    "print(\"Mean =\", round(statistics.mean(scores),2))\n",
    "print(\"Median =\", statistics.median(scores))\n",
    "print(\"Variance =\", round(statistics.variance(scores),2))\n"
   ]
  },
  {
   "cell_type": "code",
   "execution_count": 8,
   "id": "a0b7cea0",
   "metadata": {},
   "outputs": [
    {
     "name": "stdout",
     "output_type": "stream",
     "text": [
      "Roots are: (2.0, 1.0)\n"
     ]
    }
   ],
   "source": [
    "import math\n",
    "\n",
    "def quadratic(a,b,c):\n",
    "    d = b**2 - 4*a*c\n",
    "    r1 = (-b + math.sqrt(d))/(2*a)\n",
    "    r2 = (-b - math.sqrt(d))/(2*a)\n",
    "    return r1, r2\n",
    "\n",
    "print(\"Roots are:\", quadratic(1,-3,2))\n"
   ]
  },
  {
   "cell_type": "code",
   "execution_count": 9,
   "id": "8d702d7c",
   "metadata": {},
   "outputs": [
    {
     "name": "stdout",
     "output_type": "stream",
     "text": [
      "You chose Rock, Computer chose Scissors\n",
      "You Win!\n"
     ]
    }
   ],
   "source": [
    "import random\n",
    "\n",
    "def rps(user):\n",
    "    choices = [\"Rock\", \"Paper\", \"Scissors\"]\n",
    "    comp = random.choice(choices)\n",
    "    print(f\"You chose {user}, Computer chose {comp}\")\n",
    "    if user == comp:\n",
    "        return \"Draw!\"\n",
    "    if (user==\"Rock\" and comp==\"Scissors\") or (user==\"Scissors\" and comp==\"Paper\") or (user==\"Paper\" and comp==\"Rock\"):\n",
    "        return \"You Win!\"\n",
    "    return \"You Lose!\"\n",
    "\n",
    "print(rps(\"Rock\"))\n"
   ]
  },
  {
   "cell_type": "code",
   "execution_count": 10,
   "id": "459a9297",
   "metadata": {},
   "outputs": [
    {
     "name": "stdout",
     "output_type": "stream",
     "text": [
      "Sum = 30\n"
     ]
    }
   ],
   "source": [
    "import sys\n",
    "\n",
    "args = [5,10,15]   # replace with sys.argv[1:]\n",
    "print(\"Sum =\", sum(map(int,args)))\n"
   ]
  },
  {
   "cell_type": "code",
   "execution_count": 11,
   "id": "3771cd81",
   "metadata": {},
   "outputs": [
    {
     "name": "stdout",
     "output_type": "stream",
     "text": [
      "You borrowed Python 101\n",
      "You returned Python 101\n",
      "Available books: {'Python 101': 3, 'Data Science': 2}\n"
     ]
    }
   ],
   "source": [
    "class Library:\n",
    "    def __init__(self, books): self.books = books\n",
    "\n",
    "    def borrow(self, title):\n",
    "        if self.books.get(title,0) > 0:\n",
    "            self.books[title]-=1\n",
    "            return f\"You borrowed {title}\"\n",
    "        return \"Not available\"\n",
    "\n",
    "    def return_book(self,title):\n",
    "        self.books[title]=self.books.get(title,0)+1\n",
    "        return f\"You returned {title}\"\n",
    "\n",
    "    def show_books(self):\n",
    "        print(\"Available books:\",self.books)\n",
    "\n",
    "lib = Library({\"Python 101\":3,\"Data Science\":2})\n",
    "print(lib.borrow(\"Python 101\"))\n",
    "print(lib.return_book(\"Python 101\"))\n",
    "lib.show_books()\n"
   ]
  },
  {
   "cell_type": "code",
   "execution_count": 12,
   "id": "75726507",
   "metadata": {},
   "outputs": [
    {
     "name": "stdout",
     "output_type": "stream",
     "text": [
      "Dr. Smith is teaching Python\n",
      "Alice enrolled in Python\n",
      "Dr. Smith assigned: Project 1\n",
      "Alice submitted: Project 1\n"
     ]
    }
   ],
   "source": [
    "class Professor:\n",
    "    def __init__(self,name,subject):\n",
    "        self.name=name; self.subject=subject\n",
    "\n",
    "    def teach(self,course):\n",
    "        return f\"{self.name} is teaching {course}\"\n",
    "\n",
    "    def give_assignment(self,task):\n",
    "        return f\"{self.name} assigned: {task}\"\n",
    "\n",
    "class Student:\n",
    "    def __init__(self,name):\n",
    "        self.name=name; self.courses=[]; self.assignments=[]\n",
    "\n",
    "    def enroll(self,course):\n",
    "        self.courses.append(course)\n",
    "        return f\"{self.name} enrolled in {course}\"\n",
    "\n",
    "    def submit_assignment(self,task):\n",
    "        self.assignments.append(task)\n",
    "        return f\"{self.name} submitted: {task}\"\n",
    "\n",
    "prof=Professor(\"Dr. Smith\",\"Computer Science\")\n",
    "stud=Student(\"Alice\")\n",
    "print(prof.teach(\"Python\"))\n",
    "print(stud.enroll(\"Python\"))\n",
    "print(prof.give_assignment(\"Project 1\"))\n",
    "print(stud.submit_assignment(\"Project 1\"))\n"
   ]
  },
  {
   "cell_type": "code",
   "execution_count": 13,
   "id": "c52abe0a",
   "metadata": {},
   "outputs": [
    {
     "name": "stdout",
     "output_type": "stream",
     "text": [
      "Booked 2 tickets for Avatar\n",
      "Cancelled 1 ticket for Avatar\n",
      "Movies: {'Avatar': 9, 'Batman': 5}\n"
     ]
    }
   ],
   "source": [
    "class Cinema:\n",
    "    def __init__(self,movies): self.movies=movies\n",
    "\n",
    "    def book(self,movie,seats):\n",
    "        if self.movies.get(movie,0)>=seats:\n",
    "            self.movies[movie]-=seats\n",
    "            return f\"Booked {seats} tickets for {movie}\"\n",
    "        return \"Not enough seats\"\n",
    "\n",
    "    def cancel(self,movie,seats):\n",
    "        self.movies[movie]=self.movies.get(movie,0)+seats\n",
    "        return f\"Cancelled {seats} ticket for {movie}\"\n",
    "\n",
    "    def show_movies(self):\n",
    "        print(\"Movies:\",self.movies)\n",
    "\n",
    "cinema=Cinema({\"Avatar\":10,\"Batman\":5})\n",
    "print(cinema.book(\"Avatar\",2))\n",
    "print(cinema.cancel(\"Avatar\",1))\n",
    "cinema.show_movies()\n"
   ]
  },
  {
   "cell_type": "code",
   "execution_count": 14,
   "id": "a9d34c72",
   "metadata": {},
   "outputs": [
    {
     "name": "stdout",
     "output_type": "stream",
     "text": [
      "Burger added\n",
      "Pizza added\n",
      "Pizza price updated to 250\n",
      "Burger removed\n",
      "Menu: {'Pizza': 250}\n"
     ]
    }
   ],
   "source": [
    "class Menu:\n",
    "    def __init__(self): self.items={}\n",
    "\n",
    "    def add_item(self,name,price):\n",
    "        self.items[name]=price\n",
    "        return f\"{name} added\"\n",
    "\n",
    "    def remove_item(self,name):\n",
    "        self.items.pop(name,None)\n",
    "        return f\"{name} removed\"\n",
    "\n",
    "    def update_price(self,name,new_price):\n",
    "        if name in self.items:\n",
    "            self.items[name]=new_price\n",
    "            return f\"{name} price updated to {new_price}\"\n",
    "        return \"Item not found\"\n",
    "\n",
    "    def show_menu(self):\n",
    "        print(\"Menu:\",self.items)\n",
    "\n",
    "menu=Menu()\n",
    "print(menu.add_item(\"Burger\",100))\n",
    "print(menu.add_item(\"Pizza\",200))\n",
    "print(menu.update_price(\"Pizza\",250))\n",
    "print(menu.remove_item(\"Burger\"))\n",
    "menu.show_menu()\n"
   ]
  },
  {
   "cell_type": "code",
   "execution_count": null,
   "id": "a0153add",
   "metadata": {},
   "outputs": [],
   "source": []
  }
 ],
 "metadata": {
  "kernelspec": {
   "display_name": "base",
   "language": "python",
   "name": "python3"
  },
  "language_info": {
   "codemirror_mode": {
    "name": "ipython",
    "version": 3
   },
   "file_extension": ".py",
   "mimetype": "text/x-python",
   "name": "python",
   "nbconvert_exporter": "python",
   "pygments_lexer": "ipython3",
   "version": "3.13.5"
  }
 },
 "nbformat": 4,
 "nbformat_minor": 5
}
