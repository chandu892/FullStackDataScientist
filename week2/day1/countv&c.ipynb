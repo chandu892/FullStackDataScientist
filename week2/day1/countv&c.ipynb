{
 "cells": [
  {
   "cell_type": "code",
   "execution_count": 6,
   "id": "99efc7e9",
   "metadata": {},
   "outputs": [
    {
     "name": "stdout",
     "output_type": "stream",
     "text": [
      "2\n",
      "4\n"
     ]
    }
   ],
   "source": [
    "def vc(s):\n",
    "    v=['a','e','i','o','u']\n",
    "    vc=0\n",
    "    cc=0\n",
    "    for i in s:\n",
    "        if i==' ':\n",
    "            continue\n",
    "        if i in v:\n",
    "            vc+=1\n",
    "        else:\n",
    "            cc+=1\n",
    "    print(vc)\n",
    "    print(cc)\n",
    "s=input()\n",
    "s.lower()\n",
    "vc(s)"
   ]
  },
  {
   "cell_type": "code",
   "execution_count": null,
   "id": "c08f4ed9",
   "metadata": {},
   "outputs": [],
   "source": []
  }
 ],
 "metadata": {
  "kernelspec": {
   "display_name": "base",
   "language": "python",
   "name": "python3"
  },
  "language_info": {
   "codemirror_mode": {
    "name": "ipython",
    "version": 3
   },
   "file_extension": ".py",
   "mimetype": "text/x-python",
   "name": "python",
   "nbconvert_exporter": "python",
   "pygments_lexer": "ipython3",
   "version": "3.11.5"
  }
 },
 "nbformat": 4,
 "nbformat_minor": 5
}
