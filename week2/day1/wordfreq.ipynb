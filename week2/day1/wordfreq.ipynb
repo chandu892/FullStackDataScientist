{
 "cells": [
  {
   "cell_type": "code",
   "execution_count": 8,
   "id": "6abaf4f7",
   "metadata": {},
   "outputs": [
    {
     "name": "stdout",
     "output_type": "stream",
     "text": [
      "{'hi': 2, 'hello': 1}\n"
     ]
    }
   ],
   "source": [
    "from collections import Counter\n",
    "\n",
    "\n",
    "def coun(text):\n",
    "    words = text.split()\n",
    "    return Counter(words)\n",
    "text = input(\"Enter words: \")\n",
    "print(dict(coun(text)))"
   ]
  },
  {
   "cell_type": "code",
   "execution_count": null,
   "id": "cd4cec4e",
   "metadata": {},
   "outputs": [],
   "source": []
  }
 ],
 "metadata": {
  "kernelspec": {
   "display_name": "base",
   "language": "python",
   "name": "python3"
  },
  "language_info": {
   "codemirror_mode": {
    "name": "ipython",
    "version": 3
   },
   "file_extension": ".py",
   "mimetype": "text/x-python",
   "name": "python",
   "nbconvert_exporter": "python",
   "pygments_lexer": "ipython3",
   "version": "3.11.5"
  }
 },
 "nbformat": 4,
 "nbformat_minor": 5
}
