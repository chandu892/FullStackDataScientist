{
 "cells": [
  {
   "cell_type": "code",
   "execution_count": null,
   "id": "24b7273e",
   "metadata": {},
   "outputs": [
    {
     "name": "stdout",
     "output_type": "stream",
     "text": [
      "Number of words: 5\n"
     ]
    }
   ],
   "source": [
    "def count_words(file_path):\n",
    "    with open(file_path, \"r\") as f:\n",
    "        text = f.read()\n",
    "    words = text.split()\n",
    "    return len(words)\n",
    "\n",
    "file_path = r\"C:\\Users\\manda\\OneDrive\\Desktop\\ffff.txt\" \n",
    "print(\"Number of words:\", count_words(file_path))\n"
   ]
  },
  {
   "cell_type": "code",
   "execution_count": 20,
   "id": "300ae5a5",
   "metadata": {},
   "outputs": [
    {
     "name": "stdout",
     "output_type": "stream",
     "text": [
      "Strong\n"
     ]
    }
   ],
   "source": [
    "import string\n",
    "\n",
    "def check(passw):\n",
    "    has_letter = any(ch.isalpha() for ch in passw)         \n",
    "    has_digit = any(ch.isdigit() for ch in passw)           \n",
    "    has_symbol = any(ch in string.punctuation for ch in passw)\n",
    "\n",
    "    if len(passw) >= 8 and has_letter and has_digit and has_symbol:\n",
    "        print(\"Strong\")\n",
    "    else:\n",
    "        print(\"Weak\")\n",
    "password = input(\"Enter password: \")\n",
    "check(password)\n"
   ]
  },
  {
   "cell_type": "code",
   "execution_count": 23,
   "id": "b4c0f8e4",
   "metadata": {},
   "outputs": [
    {
     "name": "stdout",
     "output_type": "stream",
     "text": [
      "Error\n"
     ]
    }
   ],
   "source": [
    "def calci(choice,a,b):\n",
    "    if choice==1:\n",
    "        print(\"Addition: \",a+b)\n",
    "    elif choice==2:\n",
    "        print(\"Subtraction: \",a-b)\n",
    "    elif choice==3:\n",
    "        print(\"Multiply: \",a*b)\n",
    "    elif choice==4 and b!=0:\n",
    "        print(\"Division: \",a/b)\n",
    "    else:\n",
    "        print(\"Error\")\n",
    "ch=int(input())\n",
    "a,b=map(int,input().split())\n",
    "calci(ch,a,b)\n",
    "\n",
    "\n",
    "    "
   ]
  },
  {
   "cell_type": "code",
   "execution_count": 26,
   "id": "c3c1675e",
   "metadata": {},
   "outputs": [
    {
     "name": "stdout",
     "output_type": "stream",
     "text": [
      "Duplicate names: sai\n"
     ]
    }
   ],
   "source": [
    "def checkduplicates(lis):\n",
    "    seen = set()\n",
    "    duplicates = set()\n",
    "\n",
    "    for name in lis:\n",
    "        if name in seen:\n",
    "            duplicates.add(name)\n",
    "        else:\n",
    "            seen.add(name)\n",
    "\n",
    "    if duplicates:\n",
    "        print(\"Duplicate names:\", \", \".join(duplicates))\n",
    "    else:\n",
    "        print(\"No duplicate\")\n",
    "\n",
    "\n",
    "lis = list(map(str, input(\"Enter names: \").split()))\n",
    "checkduplicates(lis)\n"
   ]
  },
  {
   "cell_type": "code",
   "execution_count": 27,
   "id": "3047d3e3",
   "metadata": {},
   "outputs": [
    {
     "name": "stdout",
     "output_type": "stream",
     "text": [
      "45.0°C = 113.00°F\n"
     ]
    }
   ],
   "source": [
    "def celsius_to_fahrenheit(c):\n",
    "    return (c * 9/5) + 32\n",
    "\n",
    "def fahrenheit_to_celsius(f):\n",
    "    return (f - 32) * 5/9\n",
    "\n",
    "choice = input(\"Convert from (C/F): \").strip().upper()\n",
    "\n",
    "if choice == \"C\":\n",
    "    c = float(input(\"Enter temperature in Celsius: \"))\n",
    "    print(f\"{c}°C = {celsius_to_fahrenheit(c):.2f}°F\")\n",
    "elif choice == \"F\":\n",
    "    f = float(input(\"Enter temperature in Fahrenheit: \"))\n",
    "    print(f\"{f}°F = {fahrenheit_to_celsius(f):.2f}°C\")\n",
    "else:\n",
    "    print(\"Invalid choice! Enter C or F.\")\n"
   ]
  },
  {
   "cell_type": "code",
   "execution_count": 28,
   "id": "bc42d129",
   "metadata": {},
   "outputs": [
    {
     "data": {
      "text/plain": [
       "5"
      ]
     },
     "execution_count": 28,
     "metadata": {},
     "output_type": "execute_result"
    }
   ],
   "source": [
    "def largestnum(lis):\n",
    "    large=lis[0]\n",
    "    for num in lis:\n",
    "        if num>large:\n",
    "            large=num\n",
    "    return large\n",
    "lis=list(map(int,input().split()))\n",
    "largestnum(lis)"
   ]
  },
  {
   "cell_type": "code",
   "execution_count": null,
   "id": "ac192a46",
   "metadata": {},
   "outputs": [
    {
     "name": "stdout",
     "output_type": "stream",
     "text": [
      "Simple Interest = 100.0\n"
     ]
    }
   ],
   "source": [
    "def simple_interest(p, r, t):\n",
    "    return (p * r * t) / 100\n",
    "    \n",
    "p = float(input(\"Enter Principal amount: \"))\n",
    "r = float(input(\"Enter Rate of interest: \"))\n",
    "t = float(input(\"Enter Time (in years): \"))\n",
    "\n",
    "si = simple_interest(p, r, t)\n",
    "print(\"Simple Interest =\", si)\n"
   ]
  },
  {
   "cell_type": "code",
   "execution_count": 31,
   "id": "8b4744cf",
   "metadata": {},
   "outputs": [
    {
     "name": "stdout",
     "output_type": "stream",
     "text": [
      "Defaulters (attendance < 75%):\n",
      "Sita: 68%\n",
      "Meena: 74%\n",
      "Arjun: 59%\n"
     ]
    }
   ],
   "source": [
    "def find_defaulters(attendance):\n",
    "    defaulters = {name: perc for name, perc in attendance.items() if perc < 75}\n",
    "    return defaulters\n",
    "\n",
    "attendance = {\n",
    "    \"Ravi\": 82,\n",
    "    \"Sita\": 68,\n",
    "    \"Hari\": 90,\n",
    "    \"Meena\": 74,\n",
    "    \"Arjun\": 59\n",
    "}\n",
    "\n",
    "defaulters = find_defaulters(attendance)\n",
    "\n",
    "if defaulters:\n",
    "    print(\"Defaulters (attendance < 75%):\")\n",
    "    for name, perc in defaulters.items():\n",
    "        print(f\"{name}: {perc}%\")\n",
    "else:\n",
    "    print(\"No defaulters!\")\n"
   ]
  },
  {
   "cell_type": "code",
   "execution_count": null,
   "id": "08a2e0a3",
   "metadata": {},
   "outputs": [
    {
     "name": "stdout",
     "output_type": "stream",
     "text": [
      "Sum of digits = 10\n"
     ]
    }
   ],
   "source": [
    "def sum_of_digits(n):\n",
    "    total = 0\n",
    "    while n > 0:\n",
    "        total += n % 10   \n",
    "        n=n//10          \n",
    "    return total\n",
    "\n",
    "num = int(input(\"Enter a number: \"))\n",
    "print(\"Sum of digits =\", sum_of_digits(num))\n"
   ]
  },
  {
   "cell_type": "code",
   "execution_count": 45,
   "id": "82b53846",
   "metadata": {},
   "outputs": [
    {
     "name": "stdout",
     "output_type": "stream",
     "text": [
      "34 is NOT a Prime number\n"
     ]
    }
   ],
   "source": [
    "def is_prime(n):\n",
    "    if n <= 1:\n",
    "        return False\n",
    "    for i in range(2, int(n**0.5) + 1):  \n",
    "        if n % i == 0:\n",
    "            return False\n",
    "    return True\n",
    "\n",
    "num = int(input(\"Enter a number: \"))\n",
    "\n",
    "if is_prime(num):\n",
    "    print(num, \"is a Prime number\")\n",
    "else:\n",
    "    print(num, \"is NOT a Prime number\")\n"
   ]
  },
  {
   "cell_type": "code",
   "execution_count": 46,
   "id": "f6ac5053",
   "metadata": {},
   "outputs": [
    {
     "name": "stdout",
     "output_type": "stream",
     "text": [
      "5\n",
      "1\n"
     ]
    }
   ],
   "source": [
    "def checkl(lis):\n",
    "    large=lis[0]\n",
    "    for i in lis:\n",
    "        if i>large:\n",
    "            large=i\n",
    "    return large\n",
    "def checks(lis):\n",
    "    small=lis[0]\n",
    "    for i in lis:\n",
    "        if i<small:\n",
    "            small=i\n",
    "    return small\n",
    "lis=list(map(int,input().split()))\n",
    "print(checkl(lis))\n",
    "print(checks(lis))"
   ]
  },
  {
   "cell_type": "code",
   "execution_count": null,
   "id": "9160fd4d",
   "metadata": {},
   "outputs": [],
   "source": []
  }
 ],
 "metadata": {
  "kernelspec": {
   "display_name": "base",
   "language": "python",
   "name": "python3"
  },
  "language_info": {
   "codemirror_mode": {
    "name": "ipython",
    "version": 3
   },
   "file_extension": ".py",
   "mimetype": "text/x-python",
   "name": "python",
   "nbconvert_exporter": "python",
   "pygments_lexer": "ipython3",
   "version": "3.13.5"
  }
 },
 "nbformat": 4,
 "nbformat_minor": 5
}
