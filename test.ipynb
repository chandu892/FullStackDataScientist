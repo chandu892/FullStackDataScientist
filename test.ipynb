{
 "cells": [
  {
   "cell_type": "code",
   "execution_count": null,
   "id": "b245fe80",
   "metadata": {},
   "outputs": [
    {
     "name": "stdout",
     "output_type": "stream",
     "text": [
      "Addition: 5\n",
      "Subtraction: 5\n",
      "Multiplication: 0\n",
      "Division: Undefined (division by zero)\n",
      "Modulus: Undefined (modulus by zero)\n"
     ]
    }
   ],
   "source": [
    "#2 Build a calculator that takes two numbers and performs addition, subtraction, multiplication, division, and modulus.\n",
    "k=int(input(\"Enter first number: \"))\n",
    "l=int(input(\"Enter second number: \"))\n",
    "print(\"Addition:\",k+l)\n",
    "print(\"Subtraction:\",k-l)\n",
    "print(\"Multiplication:\",k*l)\n",
    "if(l!=0):\n",
    "    print(\"Division:\",k/l)\n",
    "    print(\"Modulus:\",k%l)\n",
    "else:\n",
    "    print(\"Division: Undefined (division by zero)\")\n",
    "    print(\"Modulus: Undefined (modulus by zero)\")"
   ]
  },
  {
   "cell_type": "code",
   "execution_count": null,
   "id": "0fdccf59",
   "metadata": {},
   "outputs": [
    {
     "name": "stdout",
     "output_type": "stream",
     "text": [
      "Grade: A+\n"
     ]
    }
   ],
   "source": [
    "#3 A teacher wants a grading system where marks are input, and the grade is displayed.\n",
    "n=int(input(\"Enter Marks: \"))\n",
    "if(n>=90):\n",
    "    print(\"Grade: A+\")\n",
    "elif(90>n>=80):\n",
    "    print(\"Grade: A\")\n",
    "elif(80>n>=70):\n",
    "    print(\"Grade: B\")\n",
    "elif(70>n>=60):\n",
    "    print(\"Grade: C\")\n",
    "else:\n",
    "    print(\"Grade: Fail\")"
   ]
  },
  {
   "cell_type": "code",
   "execution_count": null,
   "id": "8fffe75f",
   "metadata": {},
   "outputs": [
    {
     "name": "stdout",
     "output_type": "stream",
     "text": [
      "Highest Marks: 90\n",
      "Lowest Marks: 45\n",
      "Average Marks: 71.4\n"
     ]
    }
   ],
   "source": [
    "#4 Student Marks List Scenario: Store marks of 5 students in a list. Display the highest, lowest, and average marks.\n",
    "m=list(map(int,input(\"Marks of 5 students: \").split()))\n",
    "print(\"Highest Marks:\",max(m))\n",
    "print(\"Lowest Marks:\",min(m))\n",
    "print(\"Average Marks:\",sum(m)/len(m))"
   ]
  },
  {
   "cell_type": "code",
   "execution_count": null,
   "id": "a9521c97",
   "metadata": {},
   "outputs": [
    {
     "name": "stdout",
     "output_type": "stream",
     "text": [
      "234\n"
     ]
    }
   ],
   "source": [
    "#5 Create a phonebook using a dictionary where names are keys and numbers are values. Allow searching for a number by name.\n",
    "d=dict()\n",
    "for i in range(3):\n",
    "    k=input().split()\n",
    "    d[k[0]]=int(k[1])\n",
    "s=input()\n",
    "if s in d:\n",
    "    print(d[s])\n",
    "else:\n",
    "    print(\"Not Found\")"
   ]
  },
  {
   "cell_type": "code",
   "execution_count": null,
   "id": "7d5665ce",
   "metadata": {},
   "outputs": [
    {
     "name": "stdout",
     "output_type": "stream",
     "text": [
      "cost of items: 76\n"
     ]
    }
   ],
   "source": [
    "#1 Scenario: A grocery shopkeeper wants to calculate the bill of 3 items. Prices and quantities should be stored in variables, and the program should display the total cost.\n",
    " \n",
    "k=list(map(int,input(\"Enter keys:\").split()))\n",
    "v=list(map(int,input(\"Enter values\").split()))\n",
    "s=0\n",
    "for i in range(len(k)):\n",
    "    s+=(k[i]*v[i])\n",
    "print(\"cost of items:\",s)\n",
    "\n"
   ]
  },
  {
   "cell_type": "code",
   "execution_count": 44,
   "id": "ddd6704f",
   "metadata": {},
   "outputs": [
    {
     "name": "stdout",
     "output_type": "stream",
     "text": [
      "Total words: 3\n",
      "Total vowels: 6\n",
      "Total characters: 17\n"
     ]
    }
   ],
   "source": [
    "#6 Write a program to count the number of words, characters, and vowels in a sentence.\n",
    "s=input().split()\n",
    "v=['a','e','i','o','u']\n",
    "vc=0\n",
    "cc=0\n",
    "wc=0\n",
    "for word in s:\n",
    "    wc+=1\n",
    "    for i in word:\n",
    "        cc+=1\n",
    "        if i in v:\n",
    "            vc+=1\n",
    "    \n",
    "\n",
    "  \n",
    "print(\"Total words:\",wc)\n",
    "print(\"Total vowels:\",vc)\n",
    "print(\"Total characters:\",cc)"
   ]
  },
  {
   "cell_type": "code",
   "execution_count": 46,
   "id": "76ba38a9",
   "metadata": {},
   "outputs": [
    {
     "name": "stdout",
     "output_type": "stream",
     "text": [
      "Compound Interest: 5512.5\n"
     ]
    }
   ],
   "source": [
    "p=int(input(\"principal: \"))\n",
    "r=int(input(\"rate: \"))\n",
    "t=int(input(\"time: \"))\n",
    "\n",
    "it=input(\"type of interest simple/compound: \")\n",
    "if it=='simple':\n",
    "    si=(p*r*t)/100\n",
    "    print(\"Simple Interest:\",si)\n",
    "elif it=='compound':\n",
    "\n",
    "    ci=p*(1+r/100)**t\n",
    "    print(\"Compound Interest:\",ci)\n",
    "else:\n",
    "    print(\"Invalid Input\")"
   ]
  },
  {
   "cell_type": "code",
   "execution_count": null,
   "id": "ba32f54c",
   "metadata": {},
   "outputs": [],
   "source": []
  }
 ],
 "metadata": {
  "kernelspec": {
   "display_name": "Python 3",
   "language": "python",
   "name": "python3"
  },
  "language_info": {
   "codemirror_mode": {
    "name": "ipython",
    "version": 3
   },
   "file_extension": ".py",
   "mimetype": "text/x-python",
   "name": "python",
   "nbconvert_exporter": "python",
   "pygments_lexer": "ipython3",
   "version": "3.11.0"
  }
 },
 "nbformat": 4,
 "nbformat_minor": 5
}
